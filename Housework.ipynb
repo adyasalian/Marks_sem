{
 "cells": [
  {
   "cell_type": "code",
   "execution_count": null,
   "id": "6fb8529b-9b77-4075-88fa-dcafbd51e4ea",
   "metadata": {},
   "outputs": [],
   "source": []
  }
 ],
 "metadata": {
  "kernelspec": {
   "display_name": "",
   "name": ""
  },
  "language_info": {
   "name": ""
  }
 },
 "nbformat": 4,
 "nbformat_minor": 5
}
